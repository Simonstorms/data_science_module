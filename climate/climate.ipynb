{
 "cells": [
  {
   "cell_type": "code",
   "execution_count": 36,
   "metadata": {},
   "outputs": [],
   "source": [
    "import pandas as pd\n",
    "import seaborn as sns\n",
    "import numpy as np\n",
    "import matplotlib.cm as cm"
   ]
  },
  {
   "cell_type": "code",
   "execution_count": 2,
   "metadata": {},
   "outputs": [],
   "source": [
    "df = pd.read_csv('ECA_blended_custom/TG_STAID002759.csv')\n",
    "df.columns = [\"ID\", \"RAW_DATE\", \"RAW_TEMP\", \"QUALITY\"]"
   ]
  },
  {
   "cell_type": "code",
   "execution_count": 3,
   "metadata": {},
   "outputs": [],
   "source": [
    "df[\"TEMP_NEW\"] = df[\"RAW_TEMP\"] / 10"
   ]
  },
  {
   "cell_type": "code",
   "execution_count": 4,
   "metadata": {},
   "outputs": [
    {
     "data": {
      "text/html": [
       "<div>\n",
       "<style scoped>\n",
       "    .dataframe tbody tr th:only-of-type {\n",
       "        vertical-align: middle;\n",
       "    }\n",
       "\n",
       "    .dataframe tbody tr th {\n",
       "        vertical-align: top;\n",
       "    }\n",
       "\n",
       "    .dataframe thead th {\n",
       "        text-align: right;\n",
       "    }\n",
       "</style>\n",
       "<table border=\"1\" class=\"dataframe\">\n",
       "  <thead>\n",
       "    <tr style=\"text-align: right;\">\n",
       "      <th></th>\n",
       "      <th>ID</th>\n",
       "      <th>RAW_DATE</th>\n",
       "      <th>RAW_TEMP</th>\n",
       "      <th>QUALITY</th>\n",
       "      <th>TEMP_NEW</th>\n",
       "      <th>ISODATE</th>\n",
       "    </tr>\n",
       "  </thead>\n",
       "  <tbody>\n",
       "    <tr>\n",
       "      <th>0</th>\n",
       "      <td>127488</td>\n",
       "      <td>18760101</td>\n",
       "      <td>22</td>\n",
       "      <td>0</td>\n",
       "      <td>2.2</td>\n",
       "      <td>1876-01-01</td>\n",
       "    </tr>\n",
       "    <tr>\n",
       "      <th>1</th>\n",
       "      <td>127488</td>\n",
       "      <td>18760102</td>\n",
       "      <td>25</td>\n",
       "      <td>0</td>\n",
       "      <td>2.5</td>\n",
       "      <td>1876-01-02</td>\n",
       "    </tr>\n",
       "    <tr>\n",
       "      <th>2</th>\n",
       "      <td>127488</td>\n",
       "      <td>18760103</td>\n",
       "      <td>3</td>\n",
       "      <td>0</td>\n",
       "      <td>0.3</td>\n",
       "      <td>1876-01-03</td>\n",
       "    </tr>\n",
       "    <tr>\n",
       "      <th>3</th>\n",
       "      <td>127488</td>\n",
       "      <td>18760104</td>\n",
       "      <td>-58</td>\n",
       "      <td>0</td>\n",
       "      <td>-5.8</td>\n",
       "      <td>1876-01-04</td>\n",
       "    </tr>\n",
       "    <tr>\n",
       "      <th>4</th>\n",
       "      <td>127488</td>\n",
       "      <td>18760105</td>\n",
       "      <td>-98</td>\n",
       "      <td>0</td>\n",
       "      <td>-9.8</td>\n",
       "      <td>1876-01-05</td>\n",
       "    </tr>\n",
       "    <tr>\n",
       "      <th>5</th>\n",
       "      <td>127488</td>\n",
       "      <td>18760106</td>\n",
       "      <td>-77</td>\n",
       "      <td>0</td>\n",
       "      <td>-7.7</td>\n",
       "      <td>1876-01-06</td>\n",
       "    </tr>\n",
       "    <tr>\n",
       "      <th>6</th>\n",
       "      <td>127488</td>\n",
       "      <td>18760107</td>\n",
       "      <td>-66</td>\n",
       "      <td>0</td>\n",
       "      <td>-6.6</td>\n",
       "      <td>1876-01-07</td>\n",
       "    </tr>\n",
       "    <tr>\n",
       "      <th>7</th>\n",
       "      <td>127488</td>\n",
       "      <td>18760108</td>\n",
       "      <td>-89</td>\n",
       "      <td>0</td>\n",
       "      <td>-8.9</td>\n",
       "      <td>1876-01-08</td>\n",
       "    </tr>\n",
       "    <tr>\n",
       "      <th>8</th>\n",
       "      <td>127488</td>\n",
       "      <td>18760109</td>\n",
       "      <td>-127</td>\n",
       "      <td>0</td>\n",
       "      <td>-12.7</td>\n",
       "      <td>1876-01-09</td>\n",
       "    </tr>\n",
       "    <tr>\n",
       "      <th>9</th>\n",
       "      <td>127488</td>\n",
       "      <td>18760110</td>\n",
       "      <td>-89</td>\n",
       "      <td>0</td>\n",
       "      <td>-8.9</td>\n",
       "      <td>1876-01-10</td>\n",
       "    </tr>\n",
       "  </tbody>\n",
       "</table>\n",
       "</div>"
      ],
      "text/plain": [
       "       ID  RAW_DATE  RAW_TEMP  QUALITY  TEMP_NEW    ISODATE\n",
       "0  127488  18760101        22        0       2.2 1876-01-01\n",
       "1  127488  18760102        25        0       2.5 1876-01-02\n",
       "2  127488  18760103         3        0       0.3 1876-01-03\n",
       "3  127488  18760104       -58        0      -5.8 1876-01-04\n",
       "4  127488  18760105       -98        0      -9.8 1876-01-05\n",
       "5  127488  18760106       -77        0      -7.7 1876-01-06\n",
       "6  127488  18760107       -66        0      -6.6 1876-01-07\n",
       "7  127488  18760108       -89        0      -8.9 1876-01-08\n",
       "8  127488  18760109      -127        0     -12.7 1876-01-09\n",
       "9  127488  18760110       -89        0      -8.9 1876-01-10"
      ]
     },
     "execution_count": 4,
     "metadata": {},
     "output_type": "execute_result"
    }
   ],
   "source": [
    "s = df[\"RAW_DATE\"].astype(str)\n",
    "year = s.str[0:4]\n",
    "month = s.str[4:6]\n",
    "day = s.str[6:8]\n",
    "df[\"ISODATE\"] = pd.to_datetime(year + \"-\" + month + \"-\" + day)\n",
    "df.head(10)"
   ]
  },
  {
   "cell_type": "code",
   "execution_count": 13,
   "metadata": {},
   "outputs": [],
   "source": [
    "df2 = df.set_index(\"ISODATE\")"
   ]
  },
  {
   "cell_type": "code",
   "execution_count": 6,
   "metadata": {},
   "outputs": [
    {
     "data": {
      "text/plain": [
       "<Axes: xlabel='ISODATE'>"
      ]
     },
     "execution_count": 6,
     "metadata": {},
     "output_type": "execute_result"
    },
    {
     "data": {
      "image/png": "[encoded data removed]",
      "text/plain": [
       "<Figure size 640x480 with 1 Axes>"
      ]
     },
     "metadata": {},
     "output_type": "display_data"
    }
   ],
   "source": [
    "df2[\"TEMP_NEW\"].plot()"
   ]
  },
  {
   "cell_type": "code",
   "execution_count": 34,
   "metadata": {},
   "outputs": [],
   "source": []
  },
  {
   "cell_type": "code",
   "execution_count": 14,
   "metadata": {},
   "outputs": [],
   "source": [
    "\n",
    "df2.loc[\"1945-04-25\":\"1945-11-05\"] = df2.loc[\"1944-04-25\":\"1944-11-05\"].values"
   ]
  },
  {
   "cell_type": "code",
   "execution_count": 15,
   "metadata": {},
   "outputs": [
    {
     "data": {
      "text/html": [
       "<div>\n",
       "<style scoped>\n",
       "    .dataframe tbody tr th:only-of-type {\n",
       "        vertical-align: middle;\n",
       "    }\n",
       "\n",
       "    .dataframe tbody tr th {\n",
       "        vertical-align: top;\n",
       "    }\n",
       "\n",
       "    .dataframe thead th {\n",
       "        text-align: right;\n",
       "    }\n",
       "</style>\n",
       "<table border=\"1\" class=\"dataframe\">\n",
       "  <thead>\n",
       "    <tr style=\"text-align: right;\">\n",
       "      <th></th>\n",
       "      <th>ID</th>\n",
       "      <th>RAW_DATE</th>\n",
       "      <th>RAW_TEMP</th>\n",
       "      <th>QUALITY</th>\n",
       "      <th>TEMP_NEW</th>\n",
       "    </tr>\n",
       "    <tr>\n",
       "      <th>ISODATE</th>\n",
       "      <th></th>\n",
       "      <th></th>\n",
       "      <th></th>\n",
       "      <th></th>\n",
       "      <th></th>\n",
       "    </tr>\n",
       "  </thead>\n",
       "  <tbody>\n",
       "    <tr>\n",
       "      <th>1945-04-25</th>\n",
       "      <td>127488</td>\n",
       "      <td>19440425</td>\n",
       "      <td>92</td>\n",
       "      <td>0</td>\n",
       "      <td>9.2</td>\n",
       "    </tr>\n",
       "    <tr>\n",
       "      <th>1945-04-26</th>\n",
       "      <td>127488</td>\n",
       "      <td>19440426</td>\n",
       "      <td>92</td>\n",
       "      <td>0</td>\n",
       "      <td>9.2</td>\n",
       "    </tr>\n",
       "    <tr>\n",
       "      <th>1945-04-27</th>\n",
       "      <td>127488</td>\n",
       "      <td>19440427</td>\n",
       "      <td>88</td>\n",
       "      <td>0</td>\n",
       "      <td>8.8</td>\n",
       "    </tr>\n",
       "    <tr>\n",
       "      <th>1945-04-28</th>\n",
       "      <td>127488</td>\n",
       "      <td>19440428</td>\n",
       "      <td>86</td>\n",
       "      <td>0</td>\n",
       "      <td>8.6</td>\n",
       "    </tr>\n",
       "    <tr>\n",
       "      <th>1945-04-29</th>\n",
       "      <td>127488</td>\n",
       "      <td>19440429</td>\n",
       "      <td>68</td>\n",
       "      <td>0</td>\n",
       "      <td>6.8</td>\n",
       "    </tr>\n",
       "    <tr>\n",
       "      <th>...</th>\n",
       "      <td>...</td>\n",
       "      <td>...</td>\n",
       "      <td>...</td>\n",
       "      <td>...</td>\n",
       "      <td>...</td>\n",
       "    </tr>\n",
       "    <tr>\n",
       "      <th>1945-11-01</th>\n",
       "      <td>127488</td>\n",
       "      <td>19441101</td>\n",
       "      <td>60</td>\n",
       "      <td>0</td>\n",
       "      <td>6.0</td>\n",
       "    </tr>\n",
       "    <tr>\n",
       "      <th>1945-11-02</th>\n",
       "      <td>127488</td>\n",
       "      <td>19441102</td>\n",
       "      <td>54</td>\n",
       "      <td>0</td>\n",
       "      <td>5.4</td>\n",
       "    </tr>\n",
       "    <tr>\n",
       "      <th>1945-11-03</th>\n",
       "      <td>127488</td>\n",
       "      <td>19441103</td>\n",
       "      <td>55</td>\n",
       "      <td>0</td>\n",
       "      <td>5.5</td>\n",
       "    </tr>\n",
       "    <tr>\n",
       "      <th>1945-11-04</th>\n",
       "      <td>127488</td>\n",
       "      <td>19441104</td>\n",
       "      <td>72</td>\n",
       "      <td>0</td>\n",
       "      <td>7.2</td>\n",
       "    </tr>\n",
       "    <tr>\n",
       "      <th>1945-11-05</th>\n",
       "      <td>127488</td>\n",
       "      <td>19441105</td>\n",
       "      <td>97</td>\n",
       "      <td>0</td>\n",
       "      <td>9.7</td>\n",
       "    </tr>\n",
       "  </tbody>\n",
       "</table>\n",
       "<p>195 rows × 5 columns</p>\n",
       "</div>"
      ],
      "text/plain": [
       "                ID  RAW_DATE  RAW_TEMP  QUALITY  TEMP_NEW\n",
       "ISODATE                                                  \n",
       "1945-04-25  127488  19440425        92        0       9.2\n",
       "1945-04-26  127488  19440426        92        0       9.2\n",
       "1945-04-27  127488  19440427        88        0       8.8\n",
       "1945-04-28  127488  19440428        86        0       8.6\n",
       "1945-04-29  127488  19440429        68        0       6.8\n",
       "...            ...       ...       ...      ...       ...\n",
       "1945-11-01  127488  19441101        60        0       6.0\n",
       "1945-11-02  127488  19441102        54        0       5.4\n",
       "1945-11-03  127488  19441103        55        0       5.5\n",
       "1945-11-04  127488  19441104        72        0       7.2\n",
       "1945-11-05  127488  19441105        97        0       9.7\n",
       "\n",
       "[195 rows x 5 columns]"
      ]
     },
     "execution_count": 15,
     "metadata": {},
     "output_type": "execute_result"
    }
   ],
   "source": [
    "df2.loc[\"1945-04-25\":\"1945-11-05\"]"
   ]
  },
  {
   "cell_type": "code",
   "execution_count": 16,
   "metadata": {},
   "outputs": [
    {
     "data": {
      "text/plain": [
       "<Axes: xlabel='ISODATE'>"
      ]
     },
     "execution_count": 16,
     "metadata": {},
     "output_type": "execute_result"
    },
    {
     "data": {
      "image/png": "[encoded data removed]",
      "text/plain": [
       "<Figure size 640x480 with 1 Axes>"
      ]
     },
     "metadata": {},
     "output_type": "display_data"
    }
   ],
   "source": [
    "df2[\"TEMP_NEW\"].plot()"
   ]
  },
  {
   "cell_type": "code",
   "execution_count": 55,
   "metadata": {},
   "outputs": [
    {
     "name": "stderr",
     "output_type": "stream",
     "text": [
      "/var/folders/zc/ws3vn9916p5gllcmcl_n6bf00000gn/T/ipykernel_61616/271836808.py:1: FutureWarning: 'Y' is deprecated and will be removed in a future version, please use 'YE' instead.\n",
      "  df3 = df2.resample(\"2Y\")[\"TEMP_NEW\"].mean().reset_index()\n"
     ]
    },
    {
     "data": {
      "text/html": [
       "<div>\n",
       "<style scoped>\n",
       "    .dataframe tbody tr th:only-of-type {\n",
       "        vertical-align: middle;\n",
       "    }\n",
       "\n",
       "    .dataframe tbody tr th {\n",
       "        vertical-align: top;\n",
       "    }\n",
       "\n",
       "    .dataframe thead th {\n",
       "        text-align: right;\n",
       "    }\n",
       "</style>\n",
       "<table border=\"1\" class=\"dataframe\">\n",
       "  <thead>\n",
       "    <tr style=\"text-align: right;\">\n",
       "      <th></th>\n",
       "      <th>ISODATE</th>\n",
       "      <th>TEMP_NEW</th>\n",
       "    </tr>\n",
       "  </thead>\n",
       "  <tbody>\n",
       "    <tr>\n",
       "      <th>0</th>\n",
       "      <td>1876-12-31</td>\n",
       "      <td>9.320219</td>\n",
       "    </tr>\n",
       "    <tr>\n",
       "      <th>1</th>\n",
       "      <td>1878-12-31</td>\n",
       "      <td>9.982329</td>\n",
       "    </tr>\n",
       "    <tr>\n",
       "      <th>2</th>\n",
       "      <td>1880-12-31</td>\n",
       "      <td>8.993981</td>\n",
       "    </tr>\n",
       "    <tr>\n",
       "      <th>3</th>\n",
       "      <td>1882-12-31</td>\n",
       "      <td>9.085890</td>\n",
       "    </tr>\n",
       "    <tr>\n",
       "      <th>4</th>\n",
       "      <td>1884-12-31</td>\n",
       "      <td>8.573461</td>\n",
       "    </tr>\n",
       "    <tr>\n",
       "      <th>5</th>\n",
       "      <td>1886-12-31</td>\n",
       "      <td>8.046849</td>\n",
       "    </tr>\n",
       "    <tr>\n",
       "      <th>6</th>\n",
       "      <td>1888-12-31</td>\n",
       "      <td>8.375103</td>\n",
       "    </tr>\n",
       "    <tr>\n",
       "      <th>7</th>\n",
       "      <td>1890-12-31</td>\n",
       "      <td>9.158082</td>\n",
       "    </tr>\n",
       "    <tr>\n",
       "      <th>8</th>\n",
       "      <td>1892-12-31</td>\n",
       "      <td>8.935978</td>\n",
       "    </tr>\n",
       "    <tr>\n",
       "      <th>9</th>\n",
       "      <td>1894-12-31</td>\n",
       "      <td>9.210274</td>\n",
       "    </tr>\n",
       "  </tbody>\n",
       "</table>\n",
       "</div>"
      ],
      "text/plain": [
       "     ISODATE  TEMP_NEW\n",
       "0 1876-12-31  9.320219\n",
       "1 1878-12-31  9.982329\n",
       "2 1880-12-31  8.993981\n",
       "3 1882-12-31  9.085890\n",
       "4 1884-12-31  8.573461\n",
       "5 1886-12-31  8.046849\n",
       "6 1888-12-31  8.375103\n",
       "7 1890-12-31  9.158082\n",
       "8 1892-12-31  8.935978\n",
       "9 1894-12-31  9.210274"
      ]
     },
     "execution_count": 55,
     "metadata": {},
     "output_type": "execute_result"
    }
   ],
   "source": [
    "df3 = df2.resample(\"2Y\")[\"TEMP_NEW\"].mean().reset_index()\n",
    "df3.head(10)"
   ]
  },
  {
   "cell_type": "code",
   "execution_count": 56,
   "metadata": {},
   "outputs": [
    {
     "name": "stderr",
     "output_type": "stream",
     "text": [
      "/var/folders/zc/ws3vn9916p5gllcmcl_n6bf00000gn/T/ipykernel_61616/554103043.py:1: MatplotlibDeprecationWarning: The get_cmap function was deprecated in Matplotlib 3.7 and will be removed in 3.11. Use ``matplotlib.colormaps[name]`` or ``matplotlib.colormaps.get_cmap()`` or ``pyplot.get_cmap()`` instead.\n",
      "  cmap = cm.get_cmap('coolwarm')\n"
     ]
    },
    {
     "data": {
      "text/plain": [
       "<Axes: >"
      ]
     },
     "execution_count": 56,
     "metadata": {},
     "output_type": "execute_result"
    },
    {
     "data": {
      "image/png": "[encoded data removed]",
      "text/plain": [
       "<Figure size 640x480 with 1 Axes>"
      ]
     },
     "metadata": {},
     "output_type": "display_data"
    }
   ],
   "source": [
    "cmap = cm.get_cmap('coolwarm')\n",
    "sns.heatmap(df3[[\"TEMP_NEW\"]].transpose(), cbar=False, xticklabels=[], cmap=cmap)"
   ]
  },
  {
   "cell_type": "code",
   "execution_count": null,
   "metadata": {},
   "outputs": [],
   "source": []
  }
 ],
 "metadata": {
  "kernelspec": {
   "display_name": "Python 3",
   "language": "python",
   "name": "python3"
  },
  "language_info": {
   "codemirror_mode": {
    "name": "ipython",
    "version": 3
   },
   "file_extension": ".py",
   "mimetype": "text/x-python",
   "name": "python",
   "nbconvert_exporter": "python",
   "pygments_lexer": "ipython3",
   "version": "3.10.15"
  }
 },
 "nbformat": 4,
 "nbformat_minor": 2
}
